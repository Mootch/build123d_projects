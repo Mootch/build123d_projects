{
 "cells": [
  {
   "cell_type": "code",
   "execution_count": 8,
   "id": "27286e38-c594-438e-b694-a1171c5afc73",
   "metadata": {},
   "outputs": [],
   "source": [
    "from jupyter_cadquery import *\n",
    "from build123d import *\n",
    "from math import sqrt\n",
    "\n",
    "set_defaults(orbit_control=True, axes=True, axes0=True, reset_camera=Camera.KEEP)\n",
    "\n",
    "cv = open_viewer(\"SideCar\", anchor=\"right\", theme=\"light\")"
   ]
  },
  {
   "cell_type": "code",
   "execution_count": 3,
   "id": "60fc8041-e7b3-4f7c-bbba-90318c357a5b",
   "metadata": {},
   "outputs": [],
   "source": [
    "wid, tol = 20, 1\n",
    "len = 2*wid*(sqrt(2)/2+sqrt(2)/6+2/3)\n",
    "\n",
    "with BuildPart() as puzzle:\n",
    "    with GridLocations(wid/3, 0, 3, 1):\n",
    "        Cylinder(wid/6, len, rotation=(90,0,0))\n",
    "    Box(len,wid/3,wid/3,rotation=(0,0,45), mode=Mode.SUBTRACT)\n",
    "    short1 = Cylinder(wid/6, len, rotation=(90,-45,0), align=(Align.CENTER, Align.CENTER, Align.MIN))\n",
    "    Box(wid, len, wid/3, mode=Mode.INTERSECT)\n",
    "    outer = Box(wid+tol, len+tol, wid/6, align=(Align.CENTER,Align.CENTER,Align.MAX), mode=Mode.PRIVATE)\n",
    "    walls = offset(outer, 1.2, openings=(outer.faces().sort_by(Axis.Z)[-1]), kind=Kind.INTERSECTION, mode=Mode.PRIVATE)\n",
    "    walls.color = Color(0,0,1,.5)\n",
    "\n",
    "    temp = puzzle.solids().sort_by(Axis.Y)[3].moved(Location((-2/3*wid,-len/2,0)))\n",
    "    temp.orientation += (0,180,-135)"
   ]
  },
  {
   "cell_type": "code",
   "execution_count": 4,
   "id": "be9e5471-24c8-49de-93ce-13e2357a8ad6",
   "metadata": {},
   "outputs": [
    {
     "name": "stdout",
     "output_type": "stream",
     "text": [
      "++\n"
     ]
    },
    {
     "data": {
      "text/plain": [
       "<cad_viewer_widget.widget.CadViewer at 0x71de7c6e6ea0>"
      ]
     },
     "execution_count": 4,
     "metadata": {},
     "output_type": "execute_result"
    }
   ],
   "source": [
    "show(puzzle, walls)"
   ]
  },
  {
   "cell_type": "code",
   "execution_count": 5,
   "id": "91261e7f-a09e-45c7-b939-5e8ef2c681d1",
   "metadata": {},
   "outputs": [
    {
     "name": "stdout",
     "output_type": "stream",
     "text": [
      "+\n"
     ]
    }
   ],
   "source": [
    "stack = puzzle.solids().sort_by(Axis.Y)[0:4]\n",
    "stack.append(temp)\n",
    "Compound(stack)"
   ]
  },
  {
   "cell_type": "code",
   "execution_count": 6,
   "id": "f9f3bc55-fd54-440b-911d-ccd61c72b42d",
   "metadata": {},
   "outputs": [
    {
     "name": "stdout",
     "output_type": "stream",
     "text": [
      "+\n"
     ]
    }
   ],
   "source": [
    "walls"
   ]
  },
  {
   "cell_type": "code",
   "execution_count": 7,
   "id": "ab0aa690-280d-4306-be6a-5fa7a1e65acc",
   "metadata": {},
   "outputs": [
    {
     "name": "stdout",
     "output_type": "stream",
     "text": [
      "+\n"
     ]
    }
   ],
   "source": [
    "assembly = puzzle.solids()\n",
    "assembly.append(walls)\n",
    "Compound(assembly)"
   ]
  },
  {
   "cell_type": "code",
   "execution_count": null,
   "id": "3b959492-ecdb-42c4-9851-4d587cec0bfc",
   "metadata": {},
   "outputs": [],
   "source": []
  }
 ],
 "metadata": {
  "kernelspec": {
   "display_name": "Python 3 (ipykernel)",
   "language": "python",
   "name": "python3"
  },
  "language_info": {
   "codemirror_mode": {
    "name": "ipython",
    "version": 3
   },
   "file_extension": ".py",
   "mimetype": "text/x-python",
   "name": "python",
   "nbconvert_exporter": "python",
   "pygments_lexer": "ipython3",
   "version": "3.12.8"
  }
 },
 "nbformat": 4,
 "nbformat_minor": 5
}
