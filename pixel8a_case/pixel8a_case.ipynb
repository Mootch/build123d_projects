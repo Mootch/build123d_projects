{
 "cells": [
  {
   "cell_type": "code",
   "execution_count": 1,
   "id": "6b3cd351-ae1a-44b0-a7d6-638a998b6547",
   "metadata": {},
   "outputs": [
    {
     "name": "stdout",
     "output_type": "stream",
     "text": [
      "Overwriting auto display for build123d BuildPart, BuildSketch, BuildLine, ShapeList\n"
     ]
    }
   ],
   "source": [
    "from jupyter_cadquery import *\n",
    "from build123d import *\n",
    "\n",
    "set_defaults(orbit_control=True, axes=True, axes0=True, reset_camera=Camera.KEEP)\n",
    "\n",
    "cv = open_viewer(\"SideCar\", anchor=\"right\", theme=\"light\")"
   ]
  },
  {
   "cell_type": "code",
   "execution_count": 2,
   "id": "fa34e16f-403a-4f3c-8983-dba099c8c429",
   "metadata": {},
   "outputs": [],
   "source": [
    "phone_x, phone_y, phone_z = 73, 153, 9.3\n",
    "corner_r, edge_r, cut_r = 11, 3, 1\n",
    "thickness = 2\n",
    "usb_x, usb_y = 14, 7\n",
    "speaker_span, speaker_x, speaker_y = 37, 14, 4\n",
    "camera_x, camera_y, camera_offset = phone_x-edge_r, 18.4, phone_y/2-22.4\n",
    "buttons_offset, buttons_x, buttons_y = phone_y/2-60, 46, 3\n",
    "mic_r, mic_offset = 2, 16.5-phone_x/2\n",
    "notch_x, notch_y = 36, 4\n",
    "logo_scale = 30\n",
    "logo = import_svg(\"Boston_Bruins-svg.svg\")\n",
    "scaled_logo = scale(logo, by=logo_scale/max(Compound(logo).bounding_box().size))"
   ]
  },
  {
   "cell_type": "code",
   "execution_count": 3,
   "id": "e1583d57-3d46-4c28-9d91-c69c84366314",
   "metadata": {},
   "outputs": [],
   "source": [
    "with BuildPart() as phonecase:\n",
    "    Box(phone_x, phone_y, phone_z)\n",
    "    fillet(phonecase.edges().filter_by(Axis.Z), corner_r)\n",
    "    phonebody = fillet(phonecase.faces().filter_by(Axis.Z).edges(), edge_r)                         # make phone body\n",
    "    extrude(phonecase.faces().filter_by(Axis.Z)[-1], thickness)                                     # extra extrude to make some thickness on top of shell\n",
    "    offset(phonecase.part, amount=thickness, openings=phonecase.faces().filter_by(Axis.Z)[0])      # make case shell\n",
    "    extrude(phonebody.faces().filter_by(Axis.Z)[-1], thickness*2, taper=-60, mode=Mode.SUBTRACT)    # taper cut top opening of case\n",
    "    fillet(phonecase.edges().sort_by(Axis.Z)[-1], radius=2)\n",
    "    with Locations((0,phone_y/2-edge_r,phone_z/2)) as speaker_notch:\n",
    "        Box(notch_x, notch_y, thickness*2, mode=Mode.SUBTRACT)\n",
    "    \n",
    "    with BuildSketch(Plane(phonecase.faces().sort_by(Axis.Y)[0], x_dir=(1,0,0))) as bottom:\n",
    "        RectangleRounded(usb_x, usb_y, cut_r)\n",
    "        with GridLocations(speaker_span, 0, 2, 1) as speakers:\n",
    "            RectangleRounded(speaker_x, speaker_y, cut_r)\n",
    "    extrude(amount=-10, mode=Mode.SUBTRACT)                                                         # cut bottom holes\n",
    "    temp_edges = phonecase.edges(Select.LAST).filter_by(Axis.X).group_by(Axis.Y)[1:3]\n",
    "    fillet(temp_edges, radius=.8)\n",
    "    \n",
    "    with BuildSketch(Plane(phonecase.faces().sort_by(Axis.Z)[0], x_dir=(-1,0,0))) as back:\n",
    "        with Locations((0,camera_offset)) as cameracut:\n",
    "            Rectangle(camera_x, camera_y)\n",
    "    extrude(amount=-thickness*2, mode=Mode.SUBTRACT)                                                # cut camera window\n",
    "        \n",
    "    with BuildSketch(Plane(origin=(phone_x/2-1,buttons_offset,0), x_dir=(0,1,0),z_dir=(1,0,0))) as buttons:\n",
    "        RectangleRounded(buttons_x, buttons_y, cut_r)\n",
    "    extrude(amount=10, taper=-60, mode=Mode.SUBTRACT)                                               # cut buttons\n",
    "    button_round = phonecase.edges(Select.LAST).filter_by(Axis.Y).group_by(Axis.X)[-2]\n",
    "    fillet(button_round, radius=1.2)\n",
    "    \n",
    "    with BuildSketch(phonecase.faces().sort_by(Axis.Y)[-1]) as top:\n",
    "        with Locations((1,mic_offset)) as mic_loc:\n",
    "            Circle(mic_r)\n",
    "    extrude(amount=-10, mode=Mode.SUBTRACT)                                                         # cut mic hole\n",
    "    \n",
    "    with BuildSketch(Plane(origin=(0,-phone_y/4,phone_z/2+thickness))) as grip_plane:\n",
    "        with GridLocations(phone_x+2*thickness, 5, 2, 10) as grips:\n",
    "            Rectangle(thickness/2, thickness/8)\n",
    "    extrude(amount=-(phone_z+2*thickness), mode=Mode.SUBTRACT)                                      # cut grips\n",
    "    fillet([phonecase.edges(Select.LAST).group_by(Axis.X)[i] for i in [0,-1]], thickness/4.01)      # round grips\n",
    "\n",
    "    with BuildSketch(Plane(origin=(0,-phone_y/4,-phone_z/2), x_dir=(-1,0,0), z_dir=(0,0,-1))) as logo_plane:\n",
    "        add(scaled_logo.moved(Location(-scaled_logo.center(CenterOf.BOUNDING_BOX))))\n",
    "    extrude(amount=thickness, mode=Mode.SUBTRACT)                                                   # cut logo"
   ]
  },
  {
   "cell_type": "code",
   "execution_count": 5,
   "id": "009477dc-9ad5-4c2e-ae4b-588e0d6ae65f",
   "metadata": {},
   "outputs": [
    {
     "name": "stdout",
     "output_type": "stream",
     "text": [
      "+\n"
     ]
    }
   ],
   "source": [
    "phonecase"
   ]
  }
 ],
 "metadata": {
  "kernelspec": {
   "display_name": "Python 3 (ipykernel)",
   "language": "python",
   "name": "python3"
  },
  "language_info": {
   "codemirror_mode": {
    "name": "ipython",
    "version": 3
   },
   "file_extension": ".py",
   "mimetype": "text/x-python",
   "name": "python",
   "nbconvert_exporter": "python",
   "pygments_lexer": "ipython3",
   "version": "3.12.8"
  }
 },
 "nbformat": 4,
 "nbformat_minor": 5
}
